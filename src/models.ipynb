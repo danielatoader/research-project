{
 "cells": [
  {
   "cell_type": "code",
   "execution_count": 1,
   "metadata": {},
   "outputs": [],
   "source": [
    "import numpy as np\n",
    "import matplotlib.pyplot as plt\n",
    "from sklearn import tree\n",
    "from sklearn.linear_model import LogisticRegression\n",
    "from sklearn.svm import SVC\n",
    "from sklearn.metrics import f1_score\n",
    "from sklearn.model_selection import KFold\n",
    "from sklearn.ensemble import RandomForestClassifier\n",
    "from six import StringIO\n",
    "from imblearn.over_sampling import RandomOverSampler\n",
    "from imblearn.under_sampling import RandomUnderSampler\n",
    "import math\n",
    "from ml import get_X_y, get_label\n",
    "from IPython.display import Image  \n",
    "from sklearn.tree import export_graphviz\n",
    "import pydotplus\n",
    "\n",
    "from process_evosuite_data import ProcessEvoSuiteData\n",
    "from feature_selection_extraction import select_features\n",
    "\n",
    "data = ProcessEvoSuiteData()\n",
    "\n",
    "labels_dict_gl = dict()\n",
    "labels_dict_gl[60] = {'branch_60':0, 'default_60':1, 'weak_60':2}\n",
    "labels_dict_gl[180] = {'branch_180':0, 'default_180':1, 'weak_180':2}\n",
    "labels_dict_gl[300] = {'branch_300':0, 'default_300':1, 'weak_300':2}\n",
    "\n",
    "how_many = 0\n"
   ]
  },
  {
   "cell_type": "code",
   "execution_count": 2,
   "metadata": {},
   "outputs": [],
   "source": [
    "def run_KFold(search_budgets=[60,180,300], columns_to_group=['TARGET_CLASS', 'configuration_id', 'project.id'], score_metric='BranchCoverage', score_metric_filename='res_data/results-'):\n",
    "    \"\"\"\n",
    "    Run KFold cross validation using X, y and the chosen models.\n",
    "    \"\"\"\n",
    "\n",
    "    f1s = dict()\n",
    "    for search_budget in search_budgets:\n",
    "\n",
    "        # Get samples and their labels\n",
    "        X, y, features = get_X_y(search_budget, columns_to_group, score_metric, score_metric_filename, labels_dict=None)\n",
    "        X = np.array(X)\n",
    "        y = np.array(y)\n",
    "\n",
    "        # Apply dataset balancing techniques\n",
    "        over_sampler = RandomOverSampler(random_state=42)\n",
    "        X_res, y_res = over_sampler.fit_resample(X, y)\n",
    "        # under_sampler = RandomUnderSampler(random_state=42)\n",
    "        # X_res, y_res = under_sampler.fit_resample(X, y)\n",
    "\n",
    "        kf = KFold(n_splits=10, random_state=42, shuffle=True)\n",
    "        f1s_svc = []\n",
    "        f1s_dt = []\n",
    "        f1s_rf = []\n",
    "        f1s_lr = []\n",
    "\n",
    "        for train_index, test_index in kf.split(X_res):\n",
    "            # Split the data\n",
    "            X_train, X_test = X_res[train_index], X_res[test_index]\n",
    "            y_train, y_test = y_res[train_index], y_res[test_index]            \n",
    "\n",
    "            # Feature selection\n",
    "            X_train, X_test, selected_features = select_features(X_train, X_test, features)\n",
    "            \n",
    "            # Train SVC\n",
    "            clf = SVC()\n",
    "            clf.set_params(kernel='rbf').fit(X_train, y_train)\n",
    "            y_pred = clf.predict(X_test)\n",
    "            f1s_svc.append(f1_score(y_pred, y_test, average='weighted'))\n",
    "            \n",
    "            # Train Decision Tree\n",
    "            decision_tree = tree.DecisionTreeClassifier(random_state=456).fit(X_train, y_train)\n",
    "            y_pred = decision_tree.predict(X_test)\n",
    "            f1s_dt.append(f1_score(y_pred, y_test, average='weighted'))\n",
    "            # str_preds = [str(x) for x in y_pred]\n",
    "            # fig = plt.figure(figsize=(25,20))\n",
    "            # _ = tree.plot_tree(decision_tree, \n",
    "            #        feature_names=features,  \n",
    "            #        class_names=str_preds,\n",
    "            #        filled=True)\n",
    "            # # tree.plot_tree(decision_tree)\n",
    "            # fig.savefig(\"decistion_tree.png\")\n",
    "            # text_representation = tree.export_text(decision_tree)\n",
    "            # with open(\"decistion_tree.log\", \"w\") as fout:\n",
    "            #     fout.write(text_representation)\n",
    "\n",
    "\n",
    "            dot_data = StringIO()\n",
    "            export_graphviz(decision_tree, out_file=dot_data,  \n",
    "                            filled=True, rounded=True,\n",
    "                            special_characters=True, feature_names = selected_features,class_names=['0','1','2'])\n",
    "            graph = pydotplus.graph_from_dot_data(dot_data.getvalue())  \n",
    "            graph.write_png('dec_tree' + score_metric + '_' + str(search_budget) + '.png')\n",
    "            Image(graph.create_png())\n",
    "\n",
    "            # Train Random Forest classifier\n",
    "            random_forest = RandomForestClassifier(n_estimators = 100).fit(X_train, y_train)\n",
    "            y_pred = random_forest.predict(X_test)\n",
    "            f1s_rf.append(f1_score(y_pred, y_test, average='weighted'))\n",
    "\n",
    "            # Train a Logistic Regression classifier\n",
    "            logistic_regression = LogisticRegression(random_state=0, max_iter=300).fit(X_train, y_train)\n",
    "            y_pred = logistic_regression.predict(X_test)\n",
    "            f1s_lr.append(f1_score(y_pred, y_test, average='weighted'))\n",
    "\n",
    "        f1s[search_budget] = (f1s_dt, f1s_svc, f1s_rf, f1s_lr)\n",
    "\n",
    "    return f1s\n"
   ]
  },
  {
   "cell_type": "code",
   "execution_count": 3,
   "metadata": {},
   "outputs": [
    {
     "name": "stderr",
     "output_type": "stream",
     "text": [
      "/home/daniela/.local/lib/python3.8/site-packages/scipy/stats/_morestats.py:3145: UserWarning: Exact p-value calculation does not work if there are ties. Switching to normal approximation.\n",
      "  warnings.warn(\"Exact p-value calculation does not work if there are \"\n",
      "/home/daniela/.local/lib/python3.8/site-packages/scipy/stats/_morestats.py:3159: UserWarning: Sample size too small for normal approximation.\n",
      "  warnings.warn(\"Sample size too small for normal approximation.\")\n",
      "/home/daniela/.local/lib/python3.8/site-packages/scipy/stats/_morestats.py:3145: UserWarning: Exact p-value calculation does not work if there are ties. Switching to normal approximation.\n",
      "  warnings.warn(\"Exact p-value calculation does not work if there are \"\n",
      "/home/daniela/.local/lib/python3.8/site-packages/scipy/stats/_morestats.py:3159: UserWarning: Sample size too small for normal approximation.\n",
      "  warnings.warn(\"Sample size too small for normal approximation.\")\n"
     ]
    },
    {
     "ename": "InvocationException",
     "evalue": "GraphViz's executables not found",
     "output_type": "error",
     "traceback": [
      "\u001b[0;31m---------------------------------------------------------------------------\u001b[0m",
      "\u001b[0;31mInvocationException\u001b[0m                       Traceback (most recent call last)",
      "\u001b[1;32m/home/daniela/research-project/src/models.ipynb Cell 3'\u001b[0m in \u001b[0;36m<cell line: 1>\u001b[0;34m()\u001b[0m\n\u001b[0;32m----> <a href='vscode-notebook-cell://wsl%2Bubuntu-20.04/home/daniela/research-project/src/models.ipynb#ch0000002vscode-remote?line=0'>1</a>\u001b[0m f1s_coverage \u001b[39m=\u001b[39m run_KFold(search_budgets\u001b[39m=\u001b[39;49m[\u001b[39m60\u001b[39;49m, \u001b[39m180\u001b[39;49m, \u001b[39m300\u001b[39;49m], columns_to_group\u001b[39m=\u001b[39;49m[\u001b[39m'\u001b[39;49m\u001b[39mTARGET_CLASS\u001b[39;49m\u001b[39m'\u001b[39;49m, \u001b[39m'\u001b[39;49m\u001b[39mconfiguration_id\u001b[39;49m\u001b[39m'\u001b[39;49m, \u001b[39m'\u001b[39;49m\u001b[39mproject.id\u001b[39;49m\u001b[39m'\u001b[39;49m], score_metric\u001b[39m=\u001b[39;49m\u001b[39m'\u001b[39;49m\u001b[39mBranchCoverage\u001b[39;49m\u001b[39m'\u001b[39;49m, score_metric_filename\u001b[39m=\u001b[39;49m\u001b[39m'\u001b[39;49m\u001b[39mres_data/results-\u001b[39;49m\u001b[39m'\u001b[39;49m)\n\u001b[1;32m      <a href='vscode-notebook-cell://wsl%2Bubuntu-20.04/home/daniela/research-project/src/models.ipynb#ch0000002vscode-remote?line=1'>2</a>\u001b[0m \u001b[39mprint\u001b[39m( \u001b[39m'\u001b[39m\u001b[39mDT: \u001b[39m\u001b[39m'\u001b[39m \u001b[39m+\u001b[39m \u001b[39mstr\u001b[39m(np\u001b[39m.\u001b[39maverage(f1s_coverage[\u001b[39m60\u001b[39m][\u001b[39m0\u001b[39m])) \u001b[39m+\u001b[39m \u001b[39m'\u001b[39m\u001b[39m SVC: \u001b[39m\u001b[39m'\u001b[39m \u001b[39m+\u001b[39m \u001b[39mstr\u001b[39m(np\u001b[39m.\u001b[39maverage(f1s_coverage[\u001b[39m60\u001b[39m][\u001b[39m1\u001b[39m])) \u001b[39m+\u001b[39m \u001b[39m'\u001b[39m\u001b[39m RF: \u001b[39m\u001b[39m'\u001b[39m \u001b[39m+\u001b[39m \u001b[39mstr\u001b[39m(np\u001b[39m.\u001b[39maverage(f1s_coverage[\u001b[39m60\u001b[39m][\u001b[39m2\u001b[39m])) \u001b[39m+\u001b[39m \u001b[39m'\u001b[39m\u001b[39m LR: \u001b[39m\u001b[39m'\u001b[39m \u001b[39m+\u001b[39m \u001b[39mstr\u001b[39m(np\u001b[39m.\u001b[39maverage(f1s_coverage[\u001b[39m60\u001b[39m][\u001b[39m3\u001b[39m])))\n\u001b[1;32m      <a href='vscode-notebook-cell://wsl%2Bubuntu-20.04/home/daniela/research-project/src/models.ipynb#ch0000002vscode-remote?line=2'>3</a>\u001b[0m \u001b[39mprint\u001b[39m( \u001b[39m'\u001b[39m\u001b[39mDT: \u001b[39m\u001b[39m'\u001b[39m \u001b[39m+\u001b[39m \u001b[39mstr\u001b[39m(np\u001b[39m.\u001b[39maverage(f1s_coverage[\u001b[39m180\u001b[39m][\u001b[39m0\u001b[39m])) \u001b[39m+\u001b[39m \u001b[39m'\u001b[39m\u001b[39m SVC: \u001b[39m\u001b[39m'\u001b[39m \u001b[39m+\u001b[39m \u001b[39mstr\u001b[39m(np\u001b[39m.\u001b[39maverage(f1s_coverage[\u001b[39m180\u001b[39m][\u001b[39m1\u001b[39m])) \u001b[39m+\u001b[39m \u001b[39m'\u001b[39m\u001b[39m RF: \u001b[39m\u001b[39m'\u001b[39m \u001b[39m+\u001b[39m \u001b[39mstr\u001b[39m(np\u001b[39m.\u001b[39maverage(f1s_coverage[\u001b[39m180\u001b[39m][\u001b[39m2\u001b[39m])) \u001b[39m+\u001b[39m \u001b[39m'\u001b[39m\u001b[39m LR: \u001b[39m\u001b[39m'\u001b[39m \u001b[39m+\u001b[39m \u001b[39mstr\u001b[39m(np\u001b[39m.\u001b[39maverage(f1s_coverage[\u001b[39m180\u001b[39m][\u001b[39m3\u001b[39m])))\n",
      "\u001b[1;32m/home/daniela/research-project/src/models.ipynb Cell 2'\u001b[0m in \u001b[0;36mrun_KFold\u001b[0;34m(search_budgets, columns_to_group, score_metric, score_metric_filename)\u001b[0m\n\u001b[1;32m     <a href='vscode-notebook-cell://wsl%2Bubuntu-20.04/home/daniela/research-project/src/models.ipynb#ch0000001vscode-remote?line=57'>58</a>\u001b[0m export_graphviz(decision_tree, out_file\u001b[39m=\u001b[39mdot_data,  \n\u001b[1;32m     <a href='vscode-notebook-cell://wsl%2Bubuntu-20.04/home/daniela/research-project/src/models.ipynb#ch0000001vscode-remote?line=58'>59</a>\u001b[0m                 filled\u001b[39m=\u001b[39m\u001b[39mTrue\u001b[39;00m, rounded\u001b[39m=\u001b[39m\u001b[39mTrue\u001b[39;00m,\n\u001b[1;32m     <a href='vscode-notebook-cell://wsl%2Bubuntu-20.04/home/daniela/research-project/src/models.ipynb#ch0000001vscode-remote?line=59'>60</a>\u001b[0m                 special_characters\u001b[39m=\u001b[39m\u001b[39mTrue\u001b[39;00m, feature_names \u001b[39m=\u001b[39m selected_features,class_names\u001b[39m=\u001b[39m[\u001b[39m'\u001b[39m\u001b[39m0\u001b[39m\u001b[39m'\u001b[39m,\u001b[39m'\u001b[39m\u001b[39m1\u001b[39m\u001b[39m'\u001b[39m,\u001b[39m'\u001b[39m\u001b[39m2\u001b[39m\u001b[39m'\u001b[39m])\n\u001b[1;32m     <a href='vscode-notebook-cell://wsl%2Bubuntu-20.04/home/daniela/research-project/src/models.ipynb#ch0000001vscode-remote?line=60'>61</a>\u001b[0m graph \u001b[39m=\u001b[39m pydotplus\u001b[39m.\u001b[39mgraph_from_dot_data(dot_data\u001b[39m.\u001b[39mgetvalue())  \n\u001b[0;32m---> <a href='vscode-notebook-cell://wsl%2Bubuntu-20.04/home/daniela/research-project/src/models.ipynb#ch0000001vscode-remote?line=61'>62</a>\u001b[0m graph\u001b[39m.\u001b[39;49mwrite_png(\u001b[39m'\u001b[39;49m\u001b[39mdec_tree\u001b[39;49m\u001b[39m'\u001b[39;49m \u001b[39m+\u001b[39;49m score_metric \u001b[39m+\u001b[39;49m \u001b[39m'\u001b[39;49m\u001b[39m_\u001b[39;49m\u001b[39m'\u001b[39;49m \u001b[39m+\u001b[39;49m \u001b[39mstr\u001b[39;49m(search_budget) \u001b[39m+\u001b[39;49m \u001b[39m'\u001b[39;49m\u001b[39m.png\u001b[39;49m\u001b[39m'\u001b[39;49m)\n\u001b[1;32m     <a href='vscode-notebook-cell://wsl%2Bubuntu-20.04/home/daniela/research-project/src/models.ipynb#ch0000001vscode-remote?line=62'>63</a>\u001b[0m Image(graph\u001b[39m.\u001b[39mcreate_png())\n\u001b[1;32m     <a href='vscode-notebook-cell://wsl%2Bubuntu-20.04/home/daniela/research-project/src/models.ipynb#ch0000001vscode-remote?line=64'>65</a>\u001b[0m \u001b[39m# Train Random Forest classifier\u001b[39;00m\n",
      "File \u001b[0;32m~/.local/lib/python3.8/site-packages/pydotplus/graphviz.py:1810\u001b[0m, in \u001b[0;36mDot.__init__.<locals>.<lambda>\u001b[0;34m(path, f, prog)\u001b[0m\n\u001b[1;32m   1800\u001b[0m     f\u001b[39m.\u001b[39m\u001b[39m__doc__\u001b[39m \u001b[39m=\u001b[39m (\n\u001b[1;32m   1801\u001b[0m         \u001b[39m'''Refer to the docstring accompanying the'''\u001b[39;00m\n\u001b[1;32m   1802\u001b[0m         \u001b[39m''''create' method for more information.'''\u001b[39;00m\n\u001b[1;32m   1803\u001b[0m     )\n\u001b[1;32m   1805\u001b[0m \u001b[39mfor\u001b[39;00m frmt \u001b[39min\u001b[39;00m \u001b[39mself\u001b[39m\u001b[39m.\u001b[39mformats \u001b[39m+\u001b[39m [\u001b[39m'\u001b[39m\u001b[39mraw\u001b[39m\u001b[39m'\u001b[39m]:\n\u001b[1;32m   1806\u001b[0m     \u001b[39mself\u001b[39m\u001b[39m.\u001b[39m\u001b[39m__setattr__\u001b[39m(\n\u001b[1;32m   1807\u001b[0m         \u001b[39m'\u001b[39m\u001b[39mwrite_\u001b[39m\u001b[39m'\u001b[39m \u001b[39m+\u001b[39m frmt,\n\u001b[1;32m   1808\u001b[0m         \u001b[39mlambda\u001b[39;00m path,\n\u001b[1;32m   1809\u001b[0m         f\u001b[39m=\u001b[39mfrmt,\n\u001b[0;32m-> 1810\u001b[0m         prog\u001b[39m=\u001b[39m\u001b[39mself\u001b[39m\u001b[39m.\u001b[39mprog: \u001b[39mself\u001b[39;49m\u001b[39m.\u001b[39;49mwrite(path, \u001b[39mformat\u001b[39;49m\u001b[39m=\u001b[39;49mf, prog\u001b[39m=\u001b[39;49mprog)\n\u001b[1;32m   1811\u001b[0m     )\n\u001b[1;32m   1813\u001b[0m     f \u001b[39m=\u001b[39m \u001b[39mself\u001b[39m\u001b[39m.\u001b[39m\u001b[39m__dict__\u001b[39m[\u001b[39m'\u001b[39m\u001b[39mwrite_\u001b[39m\u001b[39m'\u001b[39m \u001b[39m+\u001b[39m frmt]\n\u001b[1;32m   1814\u001b[0m     f\u001b[39m.\u001b[39m\u001b[39m__doc__\u001b[39m \u001b[39m=\u001b[39m (\n\u001b[1;32m   1815\u001b[0m         \u001b[39m'''Refer to the docstring accompanying the'''\u001b[39;00m\n\u001b[1;32m   1816\u001b[0m         \u001b[39m''''write' method for more information.'''\u001b[39;00m\n\u001b[1;32m   1817\u001b[0m     )\n",
      "File \u001b[0;32m~/.local/lib/python3.8/site-packages/pydotplus/graphviz.py:1918\u001b[0m, in \u001b[0;36mDot.write\u001b[0;34m(self, path, prog, format)\u001b[0m\n\u001b[1;32m   1915\u001b[0m         fobj\u001b[39m.\u001b[39mwrite(data)\n\u001b[1;32m   1917\u001b[0m     \u001b[39melse\u001b[39;00m:\n\u001b[0;32m-> 1918\u001b[0m         fobj\u001b[39m.\u001b[39mwrite(\u001b[39mself\u001b[39;49m\u001b[39m.\u001b[39;49mcreate(prog, \u001b[39mformat\u001b[39;49m))\n\u001b[1;32m   1919\u001b[0m \u001b[39mfinally\u001b[39;00m:\n\u001b[1;32m   1920\u001b[0m     \u001b[39mif\u001b[39;00m close:\n",
      "File \u001b[0;32m~/.local/lib/python3.8/site-packages/pydotplus/graphviz.py:1959\u001b[0m, in \u001b[0;36mDot.create\u001b[0;34m(self, prog, format)\u001b[0m\n\u001b[1;32m   1957\u001b[0m     \u001b[39mself\u001b[39m\u001b[39m.\u001b[39mprogs \u001b[39m=\u001b[39m find_graphviz()\n\u001b[1;32m   1958\u001b[0m     \u001b[39mif\u001b[39;00m \u001b[39mself\u001b[39m\u001b[39m.\u001b[39mprogs \u001b[39mis\u001b[39;00m \u001b[39mNone\u001b[39;00m:\n\u001b[0;32m-> 1959\u001b[0m         \u001b[39mraise\u001b[39;00m InvocationException(\n\u001b[1;32m   1960\u001b[0m             \u001b[39m'\u001b[39m\u001b[39mGraphViz\u001b[39m\u001b[39m\\'\u001b[39;00m\u001b[39ms executables not found\u001b[39m\u001b[39m'\u001b[39m)\n\u001b[1;32m   1962\u001b[0m \u001b[39mif\u001b[39;00m prog \u001b[39mnot\u001b[39;00m \u001b[39min\u001b[39;00m \u001b[39mself\u001b[39m\u001b[39m.\u001b[39mprogs:\n\u001b[1;32m   1963\u001b[0m     \u001b[39mraise\u001b[39;00m InvocationException(\n\u001b[1;32m   1964\u001b[0m         \u001b[39m'\u001b[39m\u001b[39mGraphViz\u001b[39m\u001b[39m\\'\u001b[39;00m\u001b[39ms executable \u001b[39m\u001b[39m\"\u001b[39m\u001b[39m%s\u001b[39;00m\u001b[39m\"\u001b[39m\u001b[39m not found\u001b[39m\u001b[39m'\u001b[39m \u001b[39m%\u001b[39m prog)\n",
      "\u001b[0;31mInvocationException\u001b[0m: GraphViz's executables not found"
     ]
    }
   ],
   "source": [
    "f1s_coverage = run_KFold(search_budgets=[60, 180, 300], columns_to_group=['TARGET_CLASS', 'configuration_id', 'project.id'], score_metric='BranchCoverage', score_metric_filename='res_data/results-')\n",
    "print( 'DT: ' + str(np.average(f1s_coverage[60][0])) + ' SVC: ' + str(np.average(f1s_coverage[60][1])) + ' RF: ' + str(np.average(f1s_coverage[60][2])) + ' LR: ' + str(np.average(f1s_coverage[60][3])))\n",
    "print( 'DT: ' + str(np.average(f1s_coverage[180][0])) + ' SVC: ' + str(np.average(f1s_coverage[180][1])) + ' RF: ' + str(np.average(f1s_coverage[180][2])) + ' LR: ' + str(np.average(f1s_coverage[180][3])))\n",
    "print( 'DT: ' + str(np.average(f1s_coverage[300][0])) + ' SVC: ' + str(np.average(f1s_coverage[300][1])) + ' RF: ' + str(np.average(f1s_coverage[300][2])) + ' LR: ' + str(np.average(f1s_coverage[300][3])))\n",
    "\n",
    "f1s_mutation_score = run_KFold(search_budgets=[60], columns_to_group=['class', 'configuration', 'project'], score_metric='mutation_score_percent', score_metric_filename='res_data/mutation_scores.csv')\n",
    "print( 'DT_mutation: ' + str(np.average(f1s_mutation_score[60][0])) + ' SVC_mutation: ' + str(np.average(f1s_mutation_score[60][1])) + ' RF: ' + str(np.average(f1s_mutation_score[60][2])) + ' LR: ' + str(np.average(f1s_mutation_score[60][3])))\n"
   ]
  },
  {
   "cell_type": "code",
   "execution_count": null,
   "metadata": {},
   "outputs": [],
   "source": []
  }
 ],
 "metadata": {
  "kernelspec": {
   "display_name": "Python 3.8.10 64-bit",
   "language": "python",
   "name": "python3"
  },
  "language_info": {
   "codemirror_mode": {
    "name": "ipython",
    "version": 3
   },
   "file_extension": ".py",
   "mimetype": "text/x-python",
   "name": "python",
   "nbconvert_exporter": "python",
   "pygments_lexer": "ipython3",
   "version": "3.8.10"
  },
  "orig_nbformat": 4,
  "vscode": {
   "interpreter": {
    "hash": "916dbcbb3f70747c44a77c7bcd40155683ae19c65e1c03b4aa3499c5328201f1"
   }
  }
 },
 "nbformat": 4,
 "nbformat_minor": 2
}
